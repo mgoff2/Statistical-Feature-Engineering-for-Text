{
 "cells": [
  {
   "cell_type": "markdown",
   "id": "3dd18591",
   "metadata": {},
   "source": [
    "# Motivation \n",
    "\n",
    "I have three primary motivations with this notebook:\n",
    "\n",
    "1) to stimulate ideas for using more conventional, content-expertise-based models in more effective and innovative ways, so to bypass (or at least reduce the extent of reliance upon) models with low interpretability. \n",
    "\n",
    "2) to generate parallel and contrastive supplements to 'black-box' models with high accuracy rates, so to better understand *what* those models are picking-up on in generating their functions, the extent to which those things are consistent with our intuitions and expectations, and to explore where -- and why -- the models' methods and our guesses diverge.\n",
    "\n",
    "3) to provide, in tandem with the above, a suite of quantitative measures to inform how we can better use a model of any kind to provide more accurate, learner-accessible feedback in targeted ways. "
   ]
  },
  {
   "cell_type": "markdown",
   "id": "f5fcddfe",
   "metadata": {},
   "source": [
    "# Side note on lesser-used libraries\n",
    "\n",
    "Kaggle kernels include popular Python modules, like Pandas, Sklearn, and Numpy. From what I've experienced, the heavyweight modules in NLP -- Spacy, NLTK, HuggingFace, Gensim, etc. -- all seem to be available and fully functional.  \n",
    "\n",
    "Others, however, aren't available without manually uploading them. The process for this is described in [this](https://www.kaggle.com/code/samuelepino/pip-downloading-packages-to-your-local-machine/notebook?scriptVersionId=29576961) discussion, and I've circumvented this process in this notebook, by simply leaving the internet enabled. For this competition -- as well as many others-- however, internet must be disabled, and so you'll have to implement the instructions above. Once you've gotten that all sorted, you'll use a command like: \n",
    "\n",
    "> ! pip install textstat --no-index --find-links=file:///kaggle/input/textstat071py3/\n",
    "\n",
    "The modules I've had trouble with that are included in this project are: \n",
    "- [textstat](https://pypi.org/project/textstat/)\n",
    "- [pyphen](https://pypi.org/project/pyphen/)\n",
    "- [contractions](https://pypi.org/project/contractions/)\n",
    "- [language-tool-python](https://pypi.org/project/language-tool-python/)\n",
    "- [texthero](https://texthero.org/)\n",
    "\n",
    "And I can't recall exactly what all I've had to do before regarding NLTK corpora, as well as the reference data needed for [fuzzywuzzy](https://pypi.org/project/fuzzywuzzy/), [textblob](https://textblob.readthedocs.io/en/dev/), [spellchecker](https://pyspellchecker.readthedocs.io/en/latest/), and maybe some others. If you run into trouble, however, the same process should work for all except textstat and language-tool-python. For some reason (which may well be my ignorance) I can't get the language-tool-python request to work, so if you get that one figured out, comment! TextHero is functional, though many warnings accompanied my install command, having to do apparently with version incompatibility issues with spacy and the kernel. As with LTP, any insights, tricks, or experiences are eagerly welcomed."
   ]
  },
  {
   "cell_type": "markdown",
   "id": "b51376de",
   "metadata": {},
   "source": [
    "# General Cleaning and Preprocessing"
   ]
  },
  {
   "cell_type": "code",
   "execution_count": 4,
   "id": "9ced40e7",
   "metadata": {},
   "outputs": [
    {
     "data": {
      "text/html": [
       "<div>\n",
       "<style scoped>\n",
       "    .dataframe tbody tr th:only-of-type {\n",
       "        vertical-align: middle;\n",
       "    }\n",
       "\n",
       "    .dataframe tbody tr th {\n",
       "        vertical-align: top;\n",
       "    }\n",
       "\n",
       "    .dataframe thead th {\n",
       "        text-align: right;\n",
       "    }\n",
       "</style>\n",
       "<table border=\"1\" class=\"dataframe\">\n",
       "  <thead>\n",
       "    <tr style=\"text-align: right;\">\n",
       "      <th></th>\n",
       "      <th>text_id</th>\n",
       "      <th>full_text</th>\n",
       "      <th>cohesion</th>\n",
       "      <th>syntax</th>\n",
       "      <th>vocabulary</th>\n",
       "      <th>phraseology</th>\n",
       "      <th>grammar</th>\n",
       "      <th>conventions</th>\n",
       "    </tr>\n",
       "  </thead>\n",
       "  <tbody>\n",
       "    <tr>\n",
       "      <th>0</th>\n",
       "      <td>0016926B079C</td>\n",
       "      <td>I think that students would benefit from learn...</td>\n",
       "      <td>3.5</td>\n",
       "      <td>3.5</td>\n",
       "      <td>3.0</td>\n",
       "      <td>3.0</td>\n",
       "      <td>4.0</td>\n",
       "      <td>3.0</td>\n",
       "    </tr>\n",
       "    <tr>\n",
       "      <th>1</th>\n",
       "      <td>0022683E9EA5</td>\n",
       "      <td>When a problem is a change you have to let it ...</td>\n",
       "      <td>2.5</td>\n",
       "      <td>2.5</td>\n",
       "      <td>3.0</td>\n",
       "      <td>2.0</td>\n",
       "      <td>2.0</td>\n",
       "      <td>2.5</td>\n",
       "    </tr>\n",
       "    <tr>\n",
       "      <th>2</th>\n",
       "      <td>00299B378633</td>\n",
       "      <td>Dear, Principal\\n\\nIf u change the school poli...</td>\n",
       "      <td>3.0</td>\n",
       "      <td>3.5</td>\n",
       "      <td>3.0</td>\n",
       "      <td>3.0</td>\n",
       "      <td>3.0</td>\n",
       "      <td>2.5</td>\n",
       "    </tr>\n",
       "    <tr>\n",
       "      <th>3</th>\n",
       "      <td>003885A45F42</td>\n",
       "      <td>The best time in life is when you become yours...</td>\n",
       "      <td>4.5</td>\n",
       "      <td>4.5</td>\n",
       "      <td>4.5</td>\n",
       "      <td>4.5</td>\n",
       "      <td>4.0</td>\n",
       "      <td>5.0</td>\n",
       "    </tr>\n",
       "    <tr>\n",
       "      <th>4</th>\n",
       "      <td>0049B1DF5CCC</td>\n",
       "      <td>Small act of kindness can impact in other peop...</td>\n",
       "      <td>2.5</td>\n",
       "      <td>3.0</td>\n",
       "      <td>3.0</td>\n",
       "      <td>3.0</td>\n",
       "      <td>2.5</td>\n",
       "      <td>2.5</td>\n",
       "    </tr>\n",
       "  </tbody>\n",
       "</table>\n",
       "</div>"
      ],
      "text/plain": [
       "        text_id                                          full_text  cohesion  \\\n",
       "0  0016926B079C  I think that students would benefit from learn...       3.5   \n",
       "1  0022683E9EA5  When a problem is a change you have to let it ...       2.5   \n",
       "2  00299B378633  Dear, Principal\\n\\nIf u change the school poli...       3.0   \n",
       "3  003885A45F42  The best time in life is when you become yours...       4.5   \n",
       "4  0049B1DF5CCC  Small act of kindness can impact in other peop...       2.5   \n",
       "\n",
       "   syntax  vocabulary  phraseology  grammar  conventions  \n",
       "0     3.5         3.0          3.0      4.0          3.0  \n",
       "1     2.5         3.0          2.0      2.0          2.5  \n",
       "2     3.5         3.0          3.0      3.0          2.5  \n",
       "3     4.5         4.5          4.5      4.0          5.0  \n",
       "4     3.0         3.0          3.0      2.5          2.5  "
      ]
     },
     "execution_count": 4,
     "metadata": {},
     "output_type": "execute_result"
    }
   ],
   "source": [
    "import pandas as pd\n",
    "pd.options.mode.chained_assignment = None\n",
    "import pprint\n",
    "pp = pprint.PrettyPrinter(indent=2)\n",
    "import warnings\n",
    "warnings.simplefilter(action='ignore', category=FutureWarning)\n",
    "warnings.filterwarnings(\"ignore\")\n",
    "import os\n",
    "\n",
    "train = pd.read_csv('train.csv')\n",
    "train.head(5)"
   ]
  },
  {
   "cell_type": "code",
   "execution_count": 6,
   "id": "04eb4ece",
   "metadata": {},
   "outputs": [
    {
     "data": {
      "text/plain": [
       "\"Dear, Principal\\n\\nIf u change the school policy of having a grade b average that unfair. Because many students have a C average. So that means that they cant go out for sports or other activities they want to do bad. That's like taking everything they have. What if kids want to become good at something, but now they cant because of that school policy. If they have a C average they should still be able to go out for sports or activities. A C average isn't that bad, its higher then a D average. If the school police was if you have a D average of lower they shouldn't do sports or activities. If they have a D average in school for not working hard, that's means that they in ain't going to try hard. If they have a C average and there trying hard they should be able to out for sports or activities. What if all the good people in sports have a C average in school, that means that they cant play and were going to lose every game we have. That's a good policy to get grade's up but don't take away something they care about. Everyone should be able to go out for sports if they want to. If the school policy happens, schools going to be boarding now, because now students cant go out for sports or other activities. The students that are doing good in school should feel good about themselves but we shouldn't take the other students away from the others ones. If we do this policy student will try to raised their grade but if they cant what happens they them. Should they just be out of it and think that schools boarding. If they do this its like taking away their video games. All I'm saying is that they have the right to go out for sports or activities.\""
      ]
     },
     "execution_count": 6,
     "metadata": {},
     "output_type": "execute_result"
    }
   ],
   "source": [
    "train['full_text'][2]"
   ]
  },
  {
   "cell_type": "code",
   "execution_count": 7,
   "id": "6c9ec149",
   "metadata": {},
   "outputs": [],
   "source": [
    "#Since there are some issues visible regarding formatting/encoding, I'll clean that out before proceeding. \n",
    "\n",
    "import regex as re\n",
    "import string\n",
    "import gensim\n",
    "from gensim.parsing.preprocessing import strip_multiple_whitespaces\n",
    "\n",
    "\n",
    "def encoding_cleaning_ascii(x):\n",
    "    return x.encode(encoding = 'ascii', errors = 'ignore').decode()\n",
    "def encoding_cleaning_utf8(x):\n",
    "    return x.encode(encoding = 'utf-8', errors = 'ignore').decode()\n",
    "def encoding_cleaning_cp1252(x):\n",
    "    return x.encode(encoding = 'cp1252', errors = 'ignore').decode()\n",
    "def encoding_cleaning_all(x):\n",
    "    x = encoding_cleaning_ascii(x)\n",
    "    x = encoding_cleaning_utf8(x)\n",
    "    x = encoding_cleaning_cp1252(x)\n",
    "    return x\n",
    "def general_cleaning(x):\n",
    "    text = str(x)\n",
    "    text = encoding_cleaning_all(text)\n",
    "    text = text.strip()\n",
    "    text = strip_multiple_whitespaces(text)\n",
    "    text = re.sub(r\"\\n\", \"\", text)\n",
    "    return text"
   ]
  },
  {
   "cell_type": "code",
   "execution_count": 8,
   "id": "554e430a",
   "metadata": {},
   "outputs": [],
   "source": [
    "train['Full_Text'] = train['full_text'].apply(general_cleaning)\n",
    "train['Given_Character_Count'] = train['Full_Text'].apply(lambda x: len(x))\n",
    "train['Given_Word_Count'] = train['Full_Text'].apply(lambda x: len([i for i in x.split()]))"
   ]
  },
  {
   "cell_type": "code",
   "execution_count": 9,
   "id": "06f87108",
   "metadata": {},
   "outputs": [],
   "source": [
    "#For some coming topics, I'll want the text in its original format, in others, I'll need more conventionally processed text.\n",
    "\n",
    "import contractions\n",
    "contractions.add(\"i'm\", 'i am')\n",
    "def fix_contractions(x):\n",
    "    return contractions.fix(x)\n",
    "\n",
    "#Super-Easy cleaning with TextHero, though challenges RE Kaggle kernels and customizability. \n",
    "import texthero as hero\n",
    "from texthero import preprocessing\n",
    "txt_cleaning_pipe = [preprocessing.fillna,\n",
    "                    preprocessing.lowercase,\n",
    "                    preprocessing.remove_digits,\n",
    "                    preprocessing.remove_punctuation,\n",
    "                    preprocessing.remove_diacritics,\n",
    "                    preprocessing.remove_whitespace]"
   ]
  },
  {
   "cell_type": "code",
   "execution_count": 10,
   "id": "d25735d4",
   "metadata": {},
   "outputs": [],
   "source": [
    "train['Full_Text_Cleaned'] = train['Full_Text'].apply(contractions.fix)\n",
    "train['Full_Text_Cleaned'] = hero.clean(train['Full_Text_Cleaned'], pipeline = txt_cleaning_pipe)"
   ]
  },
  {
   "cell_type": "markdown",
   "id": "9418f8dd",
   "metadata": {},
   "source": [
    "#  Summary DV\n",
    "\n",
    "So, despite this competition featuring multiple outputs, it strikes me as odd to EDA by iterating across all of them. And it's not as though the DVs are independent of one another. As we can see below, they are in fact highly correlated, which is very intuitive. I think this may be amenable to a stack of some kind, or perhaps a Regressor Chain, to capture the fact that scoring well in one category predicts scoring well in the next. For now, though, I want to create a single, summary DV that is just a sum of all the independent scores. Since they are so strongly correlated, I don't think this will throw off anything in terms of EDA/feature-engineering/mining, and it will make regression analysis much easier."
   ]
  },
  {
   "cell_type": "code",
   "execution_count": 11,
   "id": "24150242",
   "metadata": {},
   "outputs": [
    {
     "data": {
      "image/png": "[encoded data removed]",
      "text/plain": [
       "<Figure size 696x496 with 2 Axes>"
      ]
     },
     "metadata": {
      "needs_background": "light"
     },
     "output_type": "display_data"
    }
   ],
   "source": [
    "y = train[['cohesion', 'syntax', 'vocabulary', 'phraseology', 'grammar', 'conventions']]\n",
    "\n",
    "from yellowbrick.features import Rank2D\n",
    "\n",
    "visualizer1 = Rank2D(algorithm = 'pearson', \n",
    "                    size = (696,496),\n",
    "                    title = 'Intra_Outcome Correlation Bt/w Dependent Variables')\n",
    "\n",
    "visualizer1.fit_transform(train[[i for i in y]])\n",
    "visualizer1.show();"
   ]
  },
  {
   "cell_type": "code",
   "execution_count": 12,
   "id": "8d449c8b",
   "metadata": {},
   "outputs": [],
   "source": [
    "train['Summary_DV'] = train[['cohesion', 'syntax', 'grammar', 'phraseology', 'vocabulary', 'conventions']].sum(axis =1)"
   ]
  },
  {
   "cell_type": "code",
   "execution_count": 13,
   "id": "dd98612e",
   "metadata": {},
   "outputs": [
    {
     "data": {
      "image/png": "[encoded data removed]",
      "text/plain": [
       "<Figure size 360x360 with 1 Axes>"
      ]
     },
     "metadata": {
      "needs_background": "light"
     },
     "output_type": "display_data"
    }
   ],
   "source": [
    "import seaborn as sns\n",
    "sns.displot(train, x = 'Summary_DV', bins = 150);  "
   ]
  },
  {
   "cell_type": "markdown",
   "id": "01ea6da4",
   "metadata": {},
   "source": [
    "While a little bit hard on the eyes, the following graphic shows just how normal and linearly related these features all are -- a wall of straight lines, and a Gaussian curves. By inference, a model effectively predicting one (or a composite) will be predictive of the remainder, but make the analysis much simpler, and may be amenable to a stacking ensemble. "
   ]
  },
  {
   "cell_type": "code",
   "execution_count": 15,
   "id": "16eb9b95",
   "metadata": {},
   "outputs": [
    {
     "data": {
      "image/png": "[encoded data removed]",
      "text/plain": [
       "<Figure size 1260x1260 with 56 Axes>"
      ]
     },
     "metadata": {
      "needs_background": "light"
     },
     "output_type": "display_data"
    }
   ],
   "source": [
    "y = train[['cohesion', 'syntax', 'vocabulary', 'phraseology', 'grammar', 'conventions', 'Summary_DV']]\n",
    "\n",
    "detailed = sns.PairGrid(y)\n",
    "detailed.map_diag(sns.histplot)\n",
    "detailed.map_offdiag(sns.scatterplot);"
   ]
  },
  {
   "cell_type": "markdown",
   "id": "6d2df970",
   "metadata": {},
   "source": [
    "# Variations on text representation"
   ]
  },
  {
   "cell_type": "code",
   "execution_count": 16,
   "id": "cdc719b3",
   "metadata": {},
   "outputs": [],
   "source": [
    "#Tokenization: with and without stopword removal\n",
    "import nltk\n",
    "from nltk.tokenize import RegexpTokenizer\n",
    "tokenizer = RegexpTokenizer(r'\\w+')\n",
    "\n",
    "from gensim.parsing.preprocessing import remove_stopwords\n",
    "gensim_stop_words = [i for i in set(gensim.parsing.preprocessing.STOPWORDS)]\n",
    "gensim_stop_words += ['like', 'the', 'want', 'i','anybody', 'guys', 'basically', 'conclusion','very', 'whatever']\n",
    "\n",
    "train['Text_Tokens_Minus_SW'] = train['Full_Text_Cleaned'].apply(lambda x: [i for i in tokenizer.tokenize(x)\\\n",
    "                                                                            if i not in gensim_stop_words])\n",
    "\n",
    "train['Text_Tokens_Full_Text'] = train['Full_Text_Cleaned'].apply(lambda x: tokenizer.tokenize(x))"
   ]
  },
  {
   "cell_type": "code",
   "execution_count": 17,
   "id": "e8f5901a",
   "metadata": {},
   "outputs": [],
   "source": [
    "#Strings of stopword-cleared and non-stopword-cleared tokens:\n",
    "train['Token_Strings'] = train['Text_Tokens_Minus_SW'].apply(lambda x: ' '.join([i for i in x if len(i) > 1]))\n",
    "train['Token_Strings_Full_Text'] = train['Text_Tokens_Full_Text'].apply(lambda x: ' '.join([i for i in x]))"
   ]
  },
  {
   "cell_type": "code",
   "execution_count": 18,
   "id": "dd281026",
   "metadata": {},
   "outputs": [],
   "source": [
    "#Sentence Tokens\n",
    "from nltk.tokenize import sent_tokenize\n",
    "train['Token_Sentences'] = train['Full_Text'].apply(sent_tokenize)"
   ]
  },
  {
   "cell_type": "code",
   "execution_count": 19,
   "id": "2410ebaa",
   "metadata": {},
   "outputs": [],
   "source": [
    "#List of textblobs\n",
    "from textblob import TextBlob\n",
    "from textblob import Word\n",
    "\n",
    "def blobs(sentence_list):\n",
    "    bloblist = []\n",
    "    for sentence in sentence_list:\n",
    "        sent_prime = TextBlob(sentence)\n",
    "        bloblist.append(sent_prime)\n",
    "        \n",
    "    return bloblist\n",
    "\n",
    "train['Blobs'] = train['Token_Sentences'].apply(blobs)"
   ]
  },
  {
   "cell_type": "code",
   "execution_count": null,
   "id": "058cf3c2",
   "metadata": {},
   "outputs": [],
   "source": [
    "#Lemmatized text\n",
    "from nltk import wordnet\n",
    "from nltk.stem.wordnet import WordNetLemmatizer\n",
    "lemmatizer = WordNetLemmatizer()\n",
    "\n",
    "for token_list in train['Text_Tokens_Minus_SW']:\n",
    "    for token in token_list: \n",
    "        lemmatizer.lemmatize(token)"
   ]
  },
  {
   "cell_type": "markdown",
   "id": "5bcc6c4b",
   "metadata": {},
   "source": [
    "# Feature Engineering\n",
    "\n",
    "# 1: TextStat\n",
    "A lot of useful features can be generated with this module, saving you (and I!) the trouble of working them out. I've chosen a small subset here, but many alternatives could have been used, as preference or need dictates. "
   ]
  },
  {
   "cell_type": "code",
   "execution_count": null,
   "id": "8d79c0c7",
   "metadata": {},
   "outputs": [],
   "source": [
    "import textstat\n",
    "from tqdm import tqdm\n",
    "\n",
    "train['Reading_Time'] = 0\n",
    "train['Average_Char_per_Word'] = 0\n",
    "train['Reading_Ease'] = 0\n",
    "train['Average_Sen_Length'] = 0\n",
    "train['Average_Syllables_per_Word'] = 0\n",
    "train['Word_Count'] = 0\n",
    "train['Text_Grade_Consensus'] = None\n",
    "\n",
    "for i in tqdm(range(len(train))):\n",
    "    train['Average_Char_per_Word'][i] = textstat.avg_character_per_word(train['Token_Strings'][i])\n",
    "    train['Average_Syllables_per_Word'][i] = textstat.avg_syllables_per_word(train['Token_Strings'][i])\n",
    "    train['Reading_Ease'][i] = textstat.flesch_reading_ease(train['Token_Strings'][i])\n",
    "    train['Word_Count'][i] = textstat.lexicon_count(train['Token_Strings'][i])    \n",
    "    train['Average_Sen_Length'][i] = textstat.avg_sentence_length(train['Full_Text'][i])\n",
    "    train['Reading_Time'][i] = textstat.reading_time(train['Full_Text'][i])\n",
    "    train['Text_Grade_Consensus'][i] = textstat.text_standard(train['Token_Strings'][i])   \n",
    "    \n",
    "train['Text_Grade_Consensus'] = train['Text_Grade_Consensus'].astype('category').cat.codes"
   ]
  },
  {
   "cell_type": "markdown",
   "id": "71d80120",
   "metadata": {},
   "source": [
    "##### 2: Sentiment Intensity Analyzer\n",
    "\n",
    "I'm not confident it will be useful, but that's what we are here to find out! Tip o' the Hat to [MSalam](https://www.kaggle.com/code/mdshahbazalam/lgbm-multioutputregressor) for this very tidy little loop. "
   ]
  },
  {
   "cell_type": "code",
   "execution_count": null,
   "id": "ad820846",
   "metadata": {},
   "outputs": [],
   "source": [
    "from nltk.sentiment.vader import SentimentIntensityAnalyzer\n",
    "\n",
    "def generate_sentiment_scores(data):\n",
    "    SID = SentimentIntensityAnalyzer()\n",
    "    Negative_Sentiment=[]\n",
    "    Positive_Sentiment=[]\n",
    "    Neutral_Sentiment=[]\n",
    "    Compound_Sentiment=[]\n",
    "    for sentence in tqdm(data['Full_Text_Cleaned'].values): \n",
    "        sentence_sentiment_score = SID.polarity_scores(sentence)\n",
    "        Compound_Sentiment.append(sentence_sentiment_score['compound'])\n",
    "        Negative_Sentiment.append(sentence_sentiment_score['neg'])\n",
    "        Positive_Sentiment.append(sentence_sentiment_score['pos'])\n",
    "        Neutral_Sentiment.append(sentence_sentiment_score['neu'])\n",
    "    return Compound_Sentiment, Negative_Sentiment, Positive_Sentiment, Neutral_Sentiment\n",
    "\n",
    "train['Compound_Sentiment'], train['Negative_Sentiment'], train['Positive_Sentiment'],\\\n",
    "train['Neutral_Sentiment'] = generate_sentiment_scores(train)"
   ]
  },
  {
   "cell_type": "markdown",
   "id": "3e2dfed7",
   "metadata": {},
   "source": [
    "##### 3: Spelling\n",
    "\n",
    "There are quite a few modules that support spellcheck and related functions, and I've gotten mixed results. For that reason, we can take a few distinct approaches, then perhaps summarize the scores as a single output in addition to the individual scores."
   ]
  },
  {
   "cell_type": "code",
   "execution_count": null,
   "id": "5308bd70",
   "metadata": {},
   "outputs": [],
   "source": [
    "#The first approach simply samples the top-N (here, ~25/top 100) most frequently misspelled words in English:\n",
    "\n",
    "Misspells = ['absense', 'adress', 'alot', 'beleive', 'cieling', 'calendur', 'begining', 'experiance', 'embarass', 'sience', \n",
    "            'seperate', 'wierd', 'truely', 'independant', 'goverment', 'hieght', 'foriegn', 'greatful', 'enviroment', \n",
    "             'privelege' 'libary', 'lisense', 'misterious', 'neccessary', 'peice', 'nieghbor', 'peolpe', 'electorals', 'stuf', \n",
    "             'alot', 'stuff', 'think', 'whats', 'pharaoh', 'activitys','ther', 'gonna', 'beacause', \n",
    "             'actaully', 'somone', 'selves', 'driveing', 'paragragh', 'moc', 'aswell']\n",
    "\n",
    "#Likewise, since the use of incorrectly punctuated contractions is a form of common and predictable misspelling: \n",
    "\n",
    "Bad_Contractions = ['cant', 'wont', 'isnt', 'aint', 'dont', 'werent', 'wernt', 'doesnt', 'thats', 'arent', 'couldnt',\n",
    "                   'wouldnt', 'didnt', 'hadnt', 'Im', 'im', 'shouldnt', 'shes', 'hes', 'lets', 'id', 'hed', 'havent', 'ill',\n",
    "                   'ive', 'Ive', 'Ill', 'theres', 'theyd', 'theyre', 'theyll', 'weve', 'wed', 'youve', 'youre', 'youd',\n",
    "                    'whos', 'whove', 'wheres', 'whats']\n",
    "\n",
    "Misspelled_List = Misspells + Bad_Contractions\n",
    "\n",
    "def Listed_Spelling(token_lst):\n",
    "    return len([i for i in token_lst if i in Misspelled_List])\n",
    "\n",
    "train['Errors_Spelling'] = train['Text_Tokens_Minus_SW'].apply(Listed_Spelling)"
   ]
  },
  {
   "cell_type": "code",
   "execution_count": null,
   "id": "dd4a6bb2",
   "metadata": {},
   "outputs": [],
   "source": [
    "#One use of the SpellChecker module.\n",
    "from spellchecker import SpellChecker\n",
    "spellchkr = SpellChecker()\n",
    "\n",
    "train['Checker_Spelling'] = train['Token_Strings'].apply(lambda x: spellchkr.unknown([i for i in x.split()]))\n",
    "train['Checker_Spelling'] = train['Checker_Spelling'].apply(lambda x: [i for i in x if i not in Bad_Contractions])\n",
    "train['Count_Checker_Spelling'] = train['Checker_Spelling'].apply(lambda x: len([i for i in x]))"
   ]
  },
  {
   "cell_type": "code",
   "execution_count": null,
   "id": "674e9793",
   "metadata": {},
   "outputs": [],
   "source": [
    "#Scoring closeness of misspelled word to proposed correction\n",
    "train['Fuzz_Blobs'] = train['Checker_Spelling'].apply(lambda x: [TextBlob(i) for i in x])\n",
    "\n",
    "from textblob import Word\n",
    "import fuzzywuzzy\n",
    "from fuzzywuzzy import fuzz\n",
    "from fuzzywuzzy import process\n",
    "\n",
    "def Fuzz_Test(blobs):\n",
    "    alpha = len(blobs)\n",
    "    if alpha == 0:\n",
    "        return 0\n",
    "    else:\n",
    "        fuzz_score = 0\n",
    "        for token in blobs:\n",
    "                NewToken = spellchkr.correction(token)\n",
    "                fuzz_score+= fuzz.ratio(token, NewToken)\n",
    "        mean_fuzz = fuzz_score/alpha\n",
    "        norm_fuzz = 100 - mean_fuzz\n",
    "    return norm_fuzz\n",
    "\n",
    "train['Fuzz_Blobs'] = train['Fuzz_Blobs'].apply(lambda x: [Fuzz_Test(i) for i in x])\n",
    "\n",
    "#To normalize across features, and adjust for those features with no misspellings, etc.\n",
    "\n",
    "def Blob_Score_Norm(x):\n",
    "    total = 0.1\n",
    "    for i in x:\n",
    "        total+=i\n",
    "    return total\n",
    "\n",
    "train['Fuzz_Blobs'] = train['Fuzz_Blobs'].apply(Blob_Score_Norm)\n",
    "\n",
    "for i in range(len(train)):\n",
    "    if train['Count_Checker_Spelling'][i] != 0:\n",
    "        train['Fuzz_Blobs'][i] = round((train['Fuzz_Blobs'][i])/(train['Count_Checker_Spelling'][i]), 2)"
   ]
  },
  {
   "cell_type": "markdown",
   "id": "aea28543",
   "metadata": {},
   "source": [
    "###### 4: Punctuation Usage"
   ]
  },
  {
   "cell_type": "code",
   "execution_count": null,
   "id": "f500aaef",
   "metadata": {},
   "outputs": [],
   "source": [
    "#Usage at all\n",
    "punctuation_marks = list(string.punctuation)\n",
    "train['Punctuation_Usage'] = train['Full_Text'].apply(lambda x: len([i for i in x if i in punctuation_marks]))"
   ]
  },
  {
   "cell_type": "code",
   "execution_count": null,
   "id": "69a944f4",
   "metadata": {},
   "outputs": [],
   "source": [
    "#More specific counts\n",
    "train['Exclamations'] = 0 \n",
    "train['Quotations'] = 0\n",
    "train['Punctuation_Diversity'] = 0 \n",
    "train['Periods'] = 0\n",
    "train['Capitals'] = 0\n",
    "train['NumericalCharacters'] = 0\n",
    "\n",
    "for i in range(len(train)):\n",
    "    Exclamations = 0\n",
    "    Quotation_Marks = 0\n",
    "    Punctuation_Diversity = 0\n",
    "    Periods = 0\n",
    "    Capitals = 0\n",
    "    NumericalCharacters = 0\n",
    "    for char in train['full_text'][i]:\n",
    "        if char == '!':\n",
    "            Exclamations+=1\n",
    "        elif char == '\"':\n",
    "            Quotation_Marks+=1\n",
    "        elif char == '.':\n",
    "            Periods+=1\n",
    "        elif char.isupper():\n",
    "            Capitals+= 1\n",
    "        elif char.isdigit():\n",
    "            NumericalCharacters+=1\n",
    "\n",
    "    mark_set = set([char for char in train['full_text'][i]])\n",
    "    Punctuation_Diversity+= len(mark_set)\n",
    "    train['Exclamations'][i]+= Exclamations\n",
    "    train['Quotations'][i]+= Quotation_Marks\n",
    "    train['Punctuation_Diversity'][i] = Punctuation_Diversity\n",
    "    train['Periods'][i]+= Periods \n",
    "    train['Capitals'][i]+= Capitals\n",
    "    train['NumericalCharacters'][i]+= NumericalCharacters"
   ]
  },
  {
   "cell_type": "code",
   "execution_count": null,
   "id": "228f8a1e",
   "metadata": {},
   "outputs": [],
   "source": [
    "#Convention requires at least 1 upper-case letter for each period that occurs in the text (with margin of error for ellipses)\n",
    "train['Capital_to_Period_Ratio'] = 0\n",
    "for i in range(len(train)):\n",
    "    Capitals = train['Capitals'][i]\n",
    "    Periods = train['Periods'][i]\n",
    "    c2p = 0\n",
    "    if Capitals != 0 and Periods != 0: \n",
    "        c2p+= Capitals/Periods\n",
    "    else:\n",
    "        continue\n",
    "        \n",
    "    train['Capital_to_Period_Ratio'][i]+= c2p"
   ]
  },
  {
   "cell_type": "markdown",
   "id": "4ae1ed92",
   "metadata": {},
   "source": [
    "##### 5: Vocabulary and Lexical Analysis"
   ]
  },
  {
   "cell_type": "code",
   "execution_count": null,
   "id": "c489f2f5",
   "metadata": {},
   "outputs": [],
   "source": [
    "train['Polysyllable_Count'] = train['full_text'].apply(lambda x: textstat.polysyllabcount(x))\n",
    "train['Monosyllable_Count'] = train['full_text'].apply(lambda x: textstat.monosyllabcount(x))\n",
    "train['Lexical_Diversity'] = train['text_tokens_minus_sw'].apply(lambda x: len(set(x)))"
   ]
  },
  {
   "cell_type": "code",
   "execution_count": null,
   "id": "5fd18dd8",
   "metadata": {},
   "outputs": [],
   "source": [
    "#Analysis of word-frequency, used to indicate simple textual cohesion\n",
    "from nltk.probability import FreqDist\n",
    "document_corpus = ' '.join([word for word in train['Token_Strings']])\n",
    "corpus_tokens = tokenizer.tokenize(document_corpus)\n",
    "fdist = FreqDist(corpus_tokens)\n",
    "\n",
    "topical_n_grams = fdist.most_common(150)\n",
    "topical_n_grams_list = []\n",
    "for tupe in topical_n_grams:\n",
    "    topical_n_grams_list.append(tupe[0])\n",
    "topical_n_grams_minus_stopwords = [i for i in topical_n_grams_list if i not in gensim_stop_words]\n",
    "\n",
    "train['Topical_Tokens'] = train['Text_Tokens_Minus_SW'].apply(lambda x:\\\n",
    "                                                                  len([i for i in x if i in topical_n_grams_minus_stopwords]))"
   ]
  },
  {
   "cell_type": "code",
   "execution_count": null,
   "id": "0fafde49",
   "metadata": {},
   "outputs": [],
   "source": [
    "#Roughly looking for contributions that are neither stopwords nor highly frequent corpus-derived words\n",
    "informative_dist = [i for i in fdist if i not in gensim_stop_words]\n",
    "\n",
    "informative_dist_to_discard = informative_dist[0:100]\n",
    "train['Distinctive_Tokens'] = train['Text_Tokens_Minus_SW'].apply(lambda x:\\\n",
    "                                                                  [i for i in x if i not in informative_dist_to_discard])"
   ]
  },
  {
   "cell_type": "code",
   "execution_count": null,
   "id": "c06f9927",
   "metadata": {},
   "outputs": [],
   "source": [
    "#Similar to above, but the NLTK corpus stop-words are a bit less restrictive than the list from gensim.\n",
    "from nltk.corpus import stopwords\n",
    "nltk_stop_words = stopwords = nltk.corpus.stopwords.words('english')\n",
    "\n",
    "def content_fraction(text):\n",
    "    content = [w for w in text if w not in nltk_stop_words]\n",
    "    return len(content) / len(text)\n",
    "\n",
    "train['Stopword_Proportion'] = 0\n",
    "for i in range(len(train)):\n",
    "    train['Stopword_Proportion'][i] = content_fraction(train['Text_Tokens_Full_Text'][i])"
   ]
  },
  {
   "cell_type": "code",
   "execution_count": null,
   "id": "b121486d",
   "metadata": {},
   "outputs": [],
   "source": [
    "'''From the previous Kaggle Feedback Prize (Predicting Effective Arguments). The unigrams and bigrams are uniquely from essays \n",
    "in that competition which scored 'Effective,' stripped of stopwords and topical n-grams.'''\n",
    "\n",
    "import pickle as pkl\n",
    "\n",
    "complex_unigrams= ['procrastinate', 'whereas', 'detrimental', 'grasp', 'pursue', 'additionally', 'irrelevant', 'critical',\n",
    "          'motivation', 'thus', 'however', 'assignments', 'assignment', 'source', 'sources', 'interests', 'asking', 'given',\n",
    "          'skills', 'education', 'educational', 'ability', 'schooling', 'beneficial', 'allowing', 'instance', 'example',\n",
    "            'therefore', 'excel', 'concepts', 'perspective', 'contradictory', 'allows', 'solutions', 'direction','forgoing',\n",
    "            'view', 'viewpoint', 'confirmatory', 'confirm', 'evidence', 'proof', 'disprove', 'prove', 'contradict',\n",
    "            'challenge', 'challenging', 'contradict', 'mislead', 'demonstrate', 'misleading', 'compromise', 'resolve']\n",
    "\n",
    "def complexity_eff(token_lst):\n",
    "    score = 0\n",
    "    for item in token_lst:\n",
    "        if item in complex_unigrams:\n",
    "            score +=1\n",
    "            \n",
    "    return score\n",
    "\n",
    "train['Complex_Unigrams'] = train['Text_Tokens_Minus_SW'].apply(lambda x: complexity_eff(x))\n",
    "\n",
    "zeta = open('zeta2', 'rb')\n",
    "db = pkl.load(zeta)\n",
    "zetanew = db.copy()\n",
    "zeta.close()\n",
    "\n",
    "theta = open('theta2', 'rb')\n",
    "db2 = pkl.load(theta)\n",
    "thetanew = db2.copy()\n",
    "theta.close()\n",
    "\n",
    "def bigram_use(text):\n",
    "    score = 0\n",
    "    for bg in list(nltk.bigrams(text)):\n",
    "        if bg in zetanew:\n",
    "            score +=2\n",
    "        if bg in thetanew:\n",
    "            score +=1\n",
    "            \n",
    "    return score\n",
    "\n",
    "train['Complex_Bigrams'] = train['Text_Tokens_Minus_SW'].apply(bigram_use)"
   ]
  },
  {
   "cell_type": "code",
   "execution_count": null,
   "id": "1043b965",
   "metadata": {},
   "outputs": [],
   "source": [
    "#Miscellaneous metrics\n",
    "ad_hominemlist = ['idiot', 'stupid', 'dumb', 'loser', 'losers', 'idiots', 'morons', 'moron', 'liar', 'liars']\n",
    "train['Ad_Hominem_Count'] = train['text_tokens_minus_sw'].apply(lambda x: len([i for i in x if i in ad_hominemlist]))\n",
    "\n",
    "pronouns = ['he', 'she', 'they', 'them', 'i', 'her', 'him', 'it', 'we', 'you', 'us']\n",
    "conjunctive_list = ['for', 'and', 'nor', 'but', 'or', 'yet', 'so']\n",
    "indexicals = ['it', 'that', 'which', 'this']\n",
    "\n",
    "pronoun_index_comb = pronouns + indexicals\n",
    "\n",
    "def p_i_diversity_f(text):\n",
    "    score = 0\n",
    "    unique_words = set([i for i in text])\n",
    "    for i in unique_words: \n",
    "        if i in pronoun_index_comb:\n",
    "            score+=1\n",
    "        \n",
    "    return score\n",
    "\n",
    "train['Conjunction_Count'] = train['Text_Tokens_Full_Text'].apply(lambda x: len([i for i in x if i in conjunctive_list]))\n",
    "train['Pronoun_Count'] = train['Text_Tokens_Full_Text'].apply(lambda x: len([i for i in x if i in pronouns]))\n",
    "train['Indexical_Count'] = train['Text_Tokens_Full_Text'].apply(lambda x: len([i for i in x if i in pronouns]))\n",
    "train['P_I_Diversity'] = train['Text_Tokens_Full_Text'].apply(p_i_diversity_f)"
   ]
  },
  {
   "cell_type": "markdown",
   "id": "534bf85d",
   "metadata": {},
   "source": [
    "###### 6: Redundancy and Sentential 'Entropy'\n",
    "Vis-a-vis C. Shannon and the related Information Theoretical ideas regarding predictability, surprise, and original contribution.\n",
    "\n",
    "The modules referenced can be found here: \n",
    "- [pronouncing](https://pypi.org/project/pronouncing/) \n",
    "- [lingua](https://pypi.org/project/lingua/)\n",
    "- [pyenchant](https://pypi.org/project/pyenchant/)"
   ]
  },
  {
   "cell_type": "code",
   "execution_count": null,
   "id": "c291daee",
   "metadata": {},
   "outputs": [],
   "source": [
    "train['Text_Tokens_Two'] = train['Text_Tokens_Full_Text'].apply(lambda x: [i for i in x if i not in gensim_stop_words])\n",
    "\n",
    "train['Informative_Proportion_One'] = 0\n",
    "\n",
    "for i in range(len(train)):\n",
    "    train['Informative_Proportion_One'][i] = len(train['Text_Tokens_Two'][i])/len(train['Text_Tokens_Full_Text'][i])\n",
    "\n",
    "\n",
    "train['Informative_Proportion_Two'] = 0\n",
    "\n",
    "for i in range(len(train)): \n",
    "    train['Informative_Proportion_Two'][i] = len(train['Distinctive_Tokens'][i])/len(train['Text_Tokens_Full_Text'][i])"
   ]
  },
  {
   "cell_type": "code",
   "execution_count": null,
   "id": "cb3b63c3",
   "metadata": {},
   "outputs": [],
   "source": [
    "import pronouncing\n",
    "\n",
    "def syllables_and_gibberish(x):\n",
    "    pronunciation_list = []\n",
    "    for i in x: \n",
    "        syl = pronouncing.phones_for_word(i)\n",
    "        try:\n",
    "            syllab_count = pronouncing.syllable_count(syl[0])\n",
    "            pronunciation_list.append(syllab_count)\n",
    "        except:\n",
    "            continue\n",
    "    return len(pronunciation_list)\n",
    "\n",
    "train['S_And_G'] = train['Text_Tokens_Minus_SW'].apply(syllables_and_gibberish)\n",
    "train['S_And_G_Score'] = train['Word_Count']-train['S_And_G']"
   ]
  },
  {
   "cell_type": "code",
   "execution_count": null,
   "id": "ada75b82",
   "metadata": {},
   "outputs": [],
   "source": [
    "from lingua import Language, LanguageDetectorBuilder\n",
    "languages = [Language.ENGLISH, Language.SPANISH]\n",
    "detector = LanguageDetectorBuilder.from_languages(*languages).build()\n",
    "def is_spanish(tokenlist):\n",
    "    score = 0\n",
    "    for token in tokenlist:\n",
    "        alpha = detector.detect_language_of(token)\n",
    "        if alpha == Language.SPANISH:\n",
    "            score+=1\n",
    "        else:\n",
    "            continue\n",
    "    return score\n",
    "train['Is_Spanish'] = train['Distinctive_Tokens'].apply(is_spanish)"
   ]
  },
  {
   "cell_type": "markdown",
   "id": "e3235079",
   "metadata": {},
   "source": [
    "Reference for [letter-frequency.](https://www3.nd.edu/~busiforc/handouts/cryptography/letterfrequencies.html)"
   ]
  },
  {
   "cell_type": "code",
   "execution_count": null,
   "id": "9c6f2d5e",
   "metadata": {},
   "outputs": [],
   "source": [
    "#Analyzing letter frequency against P(X=x)| general language usage.\n",
    "\n",
    "#Enchant is a spelling dictionary and spell-checker\n",
    "import enchant\n",
    "d = enchant.Dict('en_US')\n",
    "\n",
    "from gensim.parsing.preprocessing import strip_punctuation\n",
    "\n",
    "most_common_letters = ['e', 'a', 'o', 't', 'n']\n",
    "least_common_letters = ['z', 'x', 'v', 'q', 'k', 'j']\n",
    "\n",
    "def letter_probability(tokenSentenceList):\n",
    "    \n",
    "    redundant_letter_count = 0\n",
    "    surprising_letter_correct_usage = 0\n",
    "\n",
    "    for sentence in tokenSentenceList:\n",
    "        for letter in sentence:\n",
    "            if letter in most_common_letters:\n",
    "                redundant_letter_count += 1\n",
    "        for word in sentence.split():\n",
    "            for m in least_common_letters:\n",
    "                if m in word:\n",
    "                    word = strip_punctuation(word)\n",
    "                    if d.check(word):\n",
    "                        surprising_letter_correct_usage+=1\n",
    "                        \n",
    "    return redundant_letter_count, surprising_letter_correct_usage\n",
    "\n",
    "train['Redundant_Letters'] = None\n",
    "train['Surprising_Letters'] = None\n",
    "for i in range(len(train)):\n",
    "    train['Redundant_Letters'][i], train['Surprising_Letters'][i] = letter_probability(train['token_sentences'][i])\n",
    "    \n",
    "train['Redundant_Char_Proportion'] = train['Redundant_Letters']/train['Given_Character_Count']\n",
    "train['Surprising_Char_Usage'] = train['Surprising_Letters']/train['Given_Word_Count']"
   ]
  },
  {
   "cell_type": "markdown",
   "id": "c548f09e",
   "metadata": {},
   "source": [
    "###### 7: Subject Verb Agreement\n",
    "\n",
    "A frequent form of grammatical error for any second-language learner -- and one that isn't nearly as represented amongst native speakers, irrespective of formal education -- is the mismatching of subject and verb, especially in more complex conjugations, moods, and tenses. The very simple loops below can be mixed-and-matched to capture some of the most common phrases and combinations. "
   ]
  },
  {
   "cell_type": "code",
   "execution_count": null,
   "id": "5dbcf714",
   "metadata": {},
   "outputs": [],
   "source": [
    "#Pronouns by verb-conjugation-group:\n",
    "group_i = 'i'\n",
    "group_1 = ['i', 'we', 'they']\n",
    "group_2 = ['he', 'she', 'it']\n",
    "group_plural = ['we', 'they']\n",
    "all_pronouns = ['i', 'she', 'he', 'it', 'they', 'we']\n",
    "\n",
    "#To have\n",
    "group_1_have = 'have'\n",
    "group_2_have = 'has'\n",
    "\n",
    "#Present_Continuous/Simple\n",
    "group1_present = ['have', 'do', 'say', 'make', 'go', 'take', 'come', 'see', 'get', 'think', 'feel', 'want']\n",
    "group2_present = ['has', 'does', 'says', 'makes', 'goes', 'takes', 'comes', 'sees', 'gets', 'thinks', 'feels', 'wants']\n",
    "\n",
    "#To be\n",
    "group_i_be_form = ['am', 'was']\n",
    "group_2_be_form = ['is', 'was']\n",
    "group_plural_be_form = ['are','were']\n",
    "\n",
    "#Modals\n",
    "modals = ['could', 'would', 'should']\n",
    "modal_thirds = ['be', 'have', 'do', 'say', 'make', 'go', 'take', 'come', 'see', 'get', 'think', 'feel', 'want']\n",
    "modal_fourths = ['been', 'had', 'done']\n",
    "\n",
    "ppp_have = ['having', 'has', 'have']\n",
    "ppp_else = ['had', 'been', 'done', 'said', 'made', 'gone', 'taken', 'seen']\n",
    "\n",
    "gen_misuse = ['maked', 'goed', 'taked', 'tooken', 'comed', 'getted', 'doed', 'maken', 'peoples']"
   ]
  },
  {
   "cell_type": "code",
   "execution_count": null,
   "id": "87548c41",
   "metadata": {},
   "outputs": [],
   "source": [
    "def sva_generalERR(x):\n",
    "    word_list= x.split()\n",
    "    gen_v_misuse = 0\n",
    "    for i in range(len(word_list)):\n",
    "        if word_list[i] in gen_misuse:\n",
    "            gen_v_misuse+=1\n",
    "            \n",
    "    return gen_v_misuse\n",
    "\n",
    "def sva_they_sERR(x):\n",
    "    \n",
    "    theyscore = 0\n",
    "    theywords = x.split()\n",
    "    \n",
    "    for idx in range(len(theywords)-2):\n",
    "        if theywords[idx] in ['they', 'will']:\n",
    "            if theywords[idx+1].endswith('s'):\n",
    "                if theywords[idx+1] != 'always':\n",
    "                    theyscore+=1\n",
    "                \n",
    "    return theyscore\n",
    "\n",
    "def sva_past_perfect_participle(x):\n",
    "    word_list= x.split()\n",
    "    past_done = 0\n",
    "    for i in range(len(word_list)-2):\n",
    "        if word_list[i] in ppp_have:\n",
    "            if word_list[i+1] in ppp_else:\n",
    "                past_done+=1\n",
    "    \n",
    "    return past_done    \n",
    "\n",
    "def sva_past_ToDo(x):\n",
    "    word_list= x.split()\n",
    "    past_done2 = 0\n",
    "    for i in range(len(word_list)-2):\n",
    "        if word_list[i] in all_pronouns:\n",
    "            if word_list[i+1] == 'done':\n",
    "                past_done2+=1\n",
    "                \n",
    "    return past_done2\n",
    "\n",
    "def sva_simple(x):\n",
    "    word_list = x.split()\n",
    "    simple_present = 0\n",
    "    \n",
    "    for i in range(len(word_list)-2):\n",
    "        if word_list[i] in group_1:\n",
    "            if word_list[i+1] in group1_present:\n",
    "                simple_present+= 1\n",
    "        \n",
    "        if word_list[i] in group_2:\n",
    "            if word_list[i+1] in group2_present:\n",
    "                simple_present+=1\n",
    "                \n",
    "    return simple_present\n",
    "\n",
    "def sva_simpleERR(x):\n",
    "    word_list = x.split()\n",
    "    simple_ERR = 0\n",
    "    \n",
    "    for i in range(len(word_list)-2):\n",
    "        if word_list[i] in group_1:\n",
    "            if word_list[i+1] in group2_present:\n",
    "                simple_ERR+= 1\n",
    "        \n",
    "        if word_list[i] in group_2:\n",
    "            if word_list[i+1] in group1_present:\n",
    "                simple_ERR+=1\n",
    "                \n",
    "    return simple_ERR\n",
    "\n",
    "def sva_future(x):\n",
    "    \n",
    "    word_list = x.split()\n",
    "    sva_future = 0\n",
    "    \n",
    "    for i in range(len(word_list)-2):\n",
    "        if word_list[i] in all_pronouns:\n",
    "            if word_list[i+1] == 'will':\n",
    "                if word_list[i+2] in group1_present:\n",
    "                    sva_future+=1\n",
    "            \n",
    "    return sva_future\n",
    "\n",
    "def sva_futureERR(x):\n",
    "    \n",
    "    word_list = x.split()\n",
    "    sva_futureERR = 0\n",
    "    \n",
    "    for i in range(len(word_list)-2):\n",
    "        if word_list[i] in all_pronouns:\n",
    "            if word_list[i+1] == 'will':\n",
    "                if word_list[i+2] in group2_present:\n",
    "                    sva_futureERR+=1\n",
    "            \n",
    "    return sva_futureERR\n",
    "\n",
    "def sva_ToBe(x):\n",
    "    word_list = x.split()\n",
    "    simple_to_be = 0\n",
    "    \n",
    "    for i in range(len(word_list)-2):\n",
    "        if word_list[i] in group_i:\n",
    "            if word_list[i+1] in group_i_be_form:\n",
    "                simple_to_be+= 1\n",
    "                \n",
    "        if word_list[i] in group_plural:\n",
    "            if word_list[i+1] in group_plural_be_form:\n",
    "                simple_to_be+=1\n",
    "        \n",
    "        if word_list[i] in group_2:\n",
    "            if word_list[i+1] in group_2_be_form:\n",
    "                simple_to_be+=1\n",
    "                \n",
    "    return simple_to_be\n",
    "\n",
    "\n",
    "def sva_ToBeERR(x):\n",
    "    word_list = x.split()\n",
    "    simple_to_beERR = 0\n",
    "    \n",
    "    for i in range(len(word_list)-2):\n",
    "        if word_list[i] in group_i:   # = i\n",
    "            if word_list[i+1] == 'is' or word_list[i+1] in group_plural_be_form:   #group_plural_be_form = ['are','were']\n",
    "                simple_to_beERR+= 1\n",
    "                #\n",
    "        if word_list[i] in group_plural: #we/they\n",
    "            if word_list[i+1] in group_i_be_form or word_list[i+1] in group_2_be_form:  #am/is/was\n",
    "                simple_to_beERR+=1\n",
    "        #\n",
    "        if word_list[i] in group_2: #he/she/it \n",
    "            if word_list[i+1] == 'am' or word_list[i+1] in group_plural_be_form: #am/are/wer\n",
    "                simple_to_beERR+=1\n",
    "                \n",
    "        if word_list[i] in all_pronouns:\n",
    "            if word_list[i+1] == 'be':\n",
    "                simple_to_beERR+=1\n",
    "                \n",
    "    return simple_to_beERR\n",
    "\n",
    "def sva_ToHave(x):\n",
    "    word_list = x.split()\n",
    "    simple_to_have = 0\n",
    "    \n",
    "    for i in range(len(word_list)-2):\n",
    "        if word_list[i] in group_1: \n",
    "            if word_list[i+1] in group_1_have: \n",
    "                simple_to_have+= 1\n",
    "        \n",
    "        if word_list[i] in group_2:  \n",
    "            if word_list[i+1] in group_2_have: \n",
    "                simple_to_have+=1\n",
    "                \n",
    "    return simple_to_have\n",
    "\n",
    "def sva_ToHaveERR(x):\n",
    "    word_list = x.split()\n",
    "    simple_to_haveERR = 0\n",
    "    \n",
    "    for i in range(len(word_list)-2):\n",
    "        if word_list[i] in group_1:\n",
    "            if word_list[i+1] in group_2_have:\n",
    "                simple_to_haveERR+= 1\n",
    "        \n",
    "        if word_list[i] in group_2:\n",
    "            if word_list[i+1] in group_1_have:\n",
    "                simple_to_haveERR+=1\n",
    "                \n",
    "    return simple_to_haveERR\n",
    "\n",
    "def sva_perfect_continuous(x):\n",
    "    word_list = x.split()\n",
    "    perfect_continuous = 0\n",
    "    \n",
    "    for i in range(len(word_list)-2):\n",
    "        if word_list[i] in group_1:\n",
    "            if word_list[i+1] in group_1_have:\n",
    "                if word_list[i+2] == 'been':\n",
    "                    perfect_continuous+= 1\n",
    "        \n",
    "        if word_list[i] in group_2:\n",
    "            if word_list[i+1] in group_2_have:\n",
    "                if word_list[i+2] == 'been':\n",
    "                    perfect_continuous+=1\n",
    "                \n",
    "    return perfect_continuous\n",
    "\n",
    "def sva_pc_future(x):\n",
    "    word_list = x.split()\n",
    "    pc_future = 0\n",
    "    \n",
    "    for i in range(len(word_list)-2):\n",
    "        if word_list[i] in all_pronouns:\n",
    "            if word_list[i+1] == 'will':\n",
    "                if word_list[i+2] == 'have':\n",
    "                    if word_list[i+3]== 'been':\n",
    "                        pc_future+=1\n",
    "            \n",
    "    return pc_future\n",
    "\n",
    "def sva_pc_futureERR(x):\n",
    "    word_list = x.split()\n",
    "    pc_futureERR = 0\n",
    "    \n",
    "    for i in range(len(word_list)-2):\n",
    "        if word_list[i] in all_pronouns:\n",
    "            if word_list[i+1] == 'will':\n",
    "                if word_list[i+2] == 'has':\n",
    "                    if word_list[i+3]== 'been':\n",
    "                        pc_futureERR+=1\n",
    "            \n",
    "    return pc_futureERR\n",
    "\n",
    "def sva_modal(x):\n",
    "    word_list = x.split()\n",
    "    modal_simple = 0\n",
    "    \n",
    "    for i in range(len(word_list)-2):\n",
    "        if word_list[i] in all_pronouns:\n",
    "            if word_list[i+1] in modals:\n",
    "                if word_list[i+2] in modal_thirds:\n",
    "                        modal_simple+=1\n",
    "            \n",
    "    return modal_simple\n",
    "\n",
    "def sva_modal_conditional(x):\n",
    "    word_list = x.split()\n",
    "    modal_conditional = 0\n",
    "    \n",
    "    for i in range(len(word_list)-2):\n",
    "        if word_list[i] in all_pronouns:\n",
    "            if word_list[i+1] in modals:\n",
    "                if word_list[i+2] == 'have':\n",
    "                    if word_list[i+3] in modal_fourths:\n",
    "                        modal_conditional+=1\n",
    "            \n",
    "    return modal_conditional\n",
    "\n",
    "def sva_imperfect(x):\n",
    "    word_list = x.split()\n",
    "    imperfect = 0\n",
    "    \n",
    "    for i in range(len(word_list)-2):\n",
    "        if word_list[i] in all_pronouns:\n",
    "            if word_list[i+1] == 'used':\n",
    "                if word_list[i+2] == 'to':\n",
    "                    imperfect+=1\n",
    "            \n",
    "    return imperfect\n",
    "\n",
    "train['SVA_General_ERR_Score'] = train['Token_Strings_Full_Text'].apply(sva_generalERR)\n",
    "train['SVA_They_S_ERR_Score'] = train['Token_Strings_Full_Text'].apply(sva_they_sERR)\n",
    "train['SVA_Past_Perfect_Participle_Score'] = train['Token_Strings_Full_Text'].apply(sva_past_perfect_participle)\n",
    "train['SVA_Past_ToDo_Score'] = train['Token_Strings_Full_Text'].apply(sva_past_ToDo)\n",
    "train['SVA_Simple_Score'] = train['Token_Strings_Full_Text'].apply(sva_simple)\n",
    "train['SVA_Simple_ERR_Score'] = train['Token_Strings_Full_Text'].apply(sva_simpleERR)\n",
    "train['SVA_Future_Score'] = train['Token_Strings_Full_Text'].apply(sva_future)\n",
    "train['SVA_Future_ERR_Score'] = train['Token_Strings_Full_Text'].apply(sva_futureERR)\n",
    "train['SVA_ToBe_Score'] = train['Token_Strings_Full_Text'].apply(sva_ToBe)\n",
    "train['SVA_ToBe_ERR_Score'] = train['Token_Strings_Full_Text'].apply(sva_ToBeERR)\n",
    "train['SVA_ToHave_Score'] = train['Token_Strings_Full_Text'].apply(sva_ToHave)\n",
    "train['SVA_ToHave_ERR_Score'] = train['Token_Strings_Full_Text'].apply(sva_ToHaveERR)\n",
    "train['SVA_Perfect_Continuous_Score'] = train['Token_Strings_Full_Text'].apply(sva_perfect_continuous)\n",
    "train['SVA_Modal_Score'] = train['Token_Strings_Full_Text'].apply(sva_modal)\n",
    "train['SVA_Modal_Conditional_Score'] = train['Token_Strings_Full_Text'].apply(sva_modal_conditional)\n",
    "train['SVA_Imperfect_Score'] = train['Token_Strings_Full_Text'].apply(sva_imperfect)\n",
    "\n",
    "sva_errors = [i for i in train.columns if i.endswith('ERR_Score')]\n",
    "sva_complex = [i for i in train.columns if i.startswith('SVA') and i not in sva_errors]\n",
    "\n",
    "train['SVA_Errs'] = train[[i for i in sva_errors]].sum(axis = 1)\n",
    "train['SVA_Score_Count'] = train[[i for i in sva_complex]].sum(axis = 1)"
   ]
  },
  {
   "cell_type": "code",
   "execution_count": null,
   "id": "f31e62f2",
   "metadata": {},
   "outputs": [],
   "source": [
    "reflexive_p = ['myself', 'himself', 'herself', 'themselves', 'ourselves', 'itself', 'yourself']\n",
    "def reflexive_pronouns(tokenlist):\n",
    "    score = 0\n",
    "    for token in tokenlist: \n",
    "        if token in reflexive_p:\n",
    "            score+=1\n",
    "        else:\n",
    "            continue\n",
    "    return score"
   ]
  },
  {
   "cell_type": "code",
   "execution_count": null,
   "id": "16b7caad",
   "metadata": {},
   "outputs": [],
   "source": [
    "train['Reflexives_PN'] = train['Text_Tokens_Full_Text'].apply(reflexive_pronouns)"
   ]
  },
  {
   "cell_type": "code",
   "execution_count": null,
   "id": "27463f3a",
   "metadata": {},
   "outputs": [],
   "source": [
    "train['SVA_Past_Perfect_Participle_Score'].value_counts()"
   ]
  },
  {
   "cell_type": "code",
   "execution_count": null,
   "id": "ee615d42",
   "metadata": {},
   "outputs": [],
   "source": [
    "import seaborn as sns\n",
    "\n",
    "from matplotlib.pyplot import figure\n",
    "\n",
    "figure(figsize=(24, 18), dpi=80)\n",
    "sns.regplot(x=\"SVA_Past_Perfect_Participle_Score\", y=\"Summary_DV\", data=train);"
   ]
  },
  {
   "cell_type": "markdown",
   "id": "88a1c6dd",
   "metadata": {},
   "source": [
    "###### 8: Readability Dictionaries\n",
    "\n",
    "The ['readability' module](https://pypi.org/project/readability/) provides a lot of quickly accessible stats, similar to the textstat module mentioned previously."
   ]
  },
  {
   "cell_type": "code",
   "execution_count": null,
   "id": "30f432b0",
   "metadata": {},
   "outputs": [],
   "source": [
    "example_text = train['Full_Text'][10]\n",
    "\n",
    "import readability\n",
    "results = readability.getmeasures(example_text, lang='en')\n",
    "results"
   ]
  },
  {
   "cell_type": "code",
   "execution_count": null,
   "id": "20fe9b7f",
   "metadata": {},
   "outputs": [],
   "source": [
    "def get_readability(df):\n",
    "    \n",
    "    output_dict = {}\n",
    "    for i in tqdm(range(len(df))):\n",
    "        idx = df['Text_Id'][i]\n",
    "        text_to_use = df['Full_Text'][i]\n",
    "        results = readability.getmeasures(text_to_use, lang='en')\n",
    "        \n",
    "               newdict = {}\n",
    "        for subdict in results.items():\n",
    "            for stuff in subdict[1].items():\n",
    "                newdict[stuff[0].title()] = round(stuff[1], 3)\n",
    "                \n",
    "        output_dict[idx] = newdict\n",
    "    return output_dict"
   ]
  },
  {
   "cell_type": "code",
   "execution_count": null,
   "id": "7b41a038",
   "metadata": {},
   "outputs": [],
   "source": [
    "Readability_Dict = get_readability(train)\n",
    "\n",
    "Readability_dict_df = pd.DataFrame.from_dict(Readability_Dict, orient = 'index')\n",
    "\n",
    "train = train.merge(Readability_dict_df, how = 'inner', left_on='Text_ID', right_index = True)\n",
    "\n",
    "train.head(1)"
   ]
  },
  {
   "cell_type": "markdown",
   "id": "de245420",
   "metadata": {},
   "source": [
    "###### 9: Language-Tool(-Python)\n",
    "\n",
    "So, it appears that python has a range of tools that serve some functionality similar to that provided in Microsoft Word's \"Spelling and Grammar\" tool, or sentence-correction suggestions in Grammarly or Gmail. Some seem more involved than I care to delve into, and I'm not 100% confident about the accuracy of *any* of these systems. Multiple critiques of such systems have found them to be prone to what can only be called 'stylistic preferences' rather than true grammatical errors. (See [here,](https://www.pcmag.com/reviews/grammarly) [here,](https://dept.writing.wisc.edu/blog/revisiting-grammarly/comment-page-1/) or [here](https://slate.com/technology/2018/02/grammarly-wont-make-your-writing-better.html) for some critques.)\n",
    "\n",
    "\n",
    "That said, the tools tend to correctly identify indisputable errors (i.e., to have few false negatives) -- if the tool returns 0 items, we don't know if the text is any *good* (or free of plagiarism), but we can be reasonably sure that spelling/grammar aren't problems. Likewise, style and verve -- in the hands of skilled writers -- may make the tool a little uneasy, but it shouldn't return an inordinate number of matches. Its preferences for prosaic text won't match the otherwise conventional parts of a well-written text, so very high frequency of matching probably means something is awry, not just idiosyncratic."
   ]
  },
  {
   "cell_type": "code",
   "execution_count": null,
   "id": "fa7187bf",
   "metadata": {},
   "outputs": [],
   "source": [
    "import language_check\n",
    "tool = language_check.LanguageTool('en_US')\n",
    "\n",
    "#Deliberate mess-up:\n",
    "sentence1 = u\"A sentence I messd up debilerately too make myp oint clear.\"\n",
    "match1 = tool.check(sentence1)\n",
    "\n",
    "#Deliberate perfection ;) \n",
    "sentence2 = u\"This is a perfectly correct sentence, and I'm sure of it.\"\n",
    "match2 = tool.check(sentence2)\n",
    "\n",
    "#Student Example\n",
    "sentence3 = train['Full_Text'][1]\n",
    "match3 = tool.check(sentence3)"
   ]
  },
  {
   "cell_type": "code",
   "execution_count": null,
   "id": "cda9e516",
   "metadata": {},
   "outputs": [],
   "source": [
    "#So, by my count, the sentence1 contains 4 errors: messd, debilerately, too, myp oint. \n",
    "print(len(match1))"
   ]
  },
  {
   "cell_type": "code",
   "execution_count": null,
   "id": "e38df978",
   "metadata": {},
   "outputs": [],
   "source": [
    "#Okay...\n",
    "for error in match1: \n",
    "    print(error)"
   ]
  },
  {
   "cell_type": "markdown",
   "id": "1403d236",
   "metadata": {},
   "source": [
    "Ah, I see. So, it considered 'myp oint' to be *two* errors: 'myp' != word; 'oint' != word. I counted it as *one* typo, but technically it does constitute two misspellings. \n",
    "\n",
    "Irrespective, both the program and I identified the same *set* of problems, we just counted them differently. What about my literary masterpiece?"
   ]
  },
  {
   "cell_type": "code",
   "execution_count": null,
   "id": "5ab5c75a",
   "metadata": {},
   "outputs": [],
   "source": [
    "print(len(match2))"
   ]
  },
  {
   "cell_type": "markdown",
   "id": "8d09bde5",
   "metadata": {},
   "source": [
    "Buenissimo! *kiss to the sky*\n",
    "\n",
    "And finally, how about our first ELL's discourse?"
   ]
  },
  {
   "cell_type": "code",
   "execution_count": null,
   "id": "16543633",
   "metadata": {},
   "outputs": [],
   "source": [
    "print(len(match3))"
   ]
  },
  {
   "cell_type": "markdown",
   "id": "2675ac0e",
   "metadata": {},
   "source": [
    "Oof! to be fair, it's a longer text, but let's double-check its findings just to be sure."
   ]
  },
  {
   "cell_type": "code",
   "execution_count": null,
   "id": "e44f1583",
   "metadata": {},
   "outputs": [],
   "source": [
    "print(sentence3)"
   ]
  },
  {
   "cell_type": "code",
   "execution_count": null,
   "id": "3ed74ad3",
   "metadata": {},
   "outputs": [],
   "source": [
    "for i in range(0, 10, 1):\n",
    "    print(match3[i])"
   ]
  },
  {
   "cell_type": "markdown",
   "id": "5f693f98",
   "metadata": {},
   "source": [
    "Well, these *do* all appear to be valid errors, and, what's more, these aren't even *all* of them.\n",
    "\n",
    "In short, while these things are far from perfect, they're far superior to random guessing, and considering how easily implemented they are, it seems silly not to use them. There are some false positives, but very few false negatives (i.e., it'll flag what are, in essence, stylistic preferences, but it almost never let's appalling gaffes slip by unnoticed). Again, I wouldn't rely on this on its own, but with all of the other nets we have in place, I think it will be a helpful (and quick-and-easy) addition. \n",
    "\n",
    "Since it returns a fairly extensive array of error- and flag-types, I'll just take the *total* number of flags, and leave you to play with the internals as your instincts guide you. "
   ]
  },
  {
   "cell_type": "code",
   "execution_count": null,
   "id": "22d4ecaf",
   "metadata": {},
   "outputs": [],
   "source": [
    "##Generating df-wide grammar_scores: Train\n",
    "import time\n",
    "from tqdm import tqdm\n",
    "start = time.time()\n",
    "train['Grammar_Score'] = 0\n",
    "\n",
    "for i in tqdm(range(len(train))):\n",
    "    train['Grammar_Score'][i] = len(tool.check(train['Full_Text'][i]))\n",
    "    \n",
    "end = time.time()\n",
    "print(f\"Execution_Time for {len(train)} records = {round(((end-start)/60), 3)} minutes.\")"
   ]
  },
  {
   "cell_type": "markdown",
   "id": "d52a93f4",
   "metadata": {},
   "source": [
    "As interesting as this process is, I have not been able how to configure the Kaggle kernel for this competition (requiring, of course, internet to be disabled) in such a way that the language_tool_python module works. I'm not super fluent in the whole kernels/virtual machines/OS manipulation techniques, but I know that a static host (?) has to be setup to run the Java language-tool process (?) in the background. I've tried to work my way through several github/stack-overflow/kaggle discussions and tutorials to get this sorted, but haven't yet had any luck. If anyone knows how to solve this, I'd love to hear from you in the comments! :) "
   ]
  },
  {
   "cell_type": "markdown",
   "id": "3be1e3f8",
   "metadata": {},
   "source": [
    "##### 10: Composite Features, Interactions, and Other Multi-Feature Bundles"
   ]
  },
  {
   "cell_type": "code",
   "execution_count": null,
   "id": "e68d3180",
   "metadata": {},
   "outputs": [],
   "source": [
    "monosyllabicList = ['Stopword_Proportion', \n",
    "                   'Average_Char_per_Word', \n",
    "                   'Average_Syllables_per_Word',\n",
    "                   'Indexical_Count',\n",
    "                   'Pronoun_Count']\n",
    "\n",
    "train['Monosyllabic'] = train[[i for i in monosyllabicList]].mean(axis = 1)\n",
    "\n",
    "train['Monosyllabic_Proportion'] = train['Monosyllabic']/train['Word_Count']"
   ]
  },
  {
   "cell_type": "code",
   "execution_count": null,
   "id": "7e1a7b04",
   "metadata": {},
   "outputs": [],
   "source": [
    "usage_errors = ['Errors_Spelling', 'Count_Checker_Spelling', 'Ad_Hominem_Count', 'S_And_G_Score']\n",
    "\n",
    "train['Usage_Errors'] = train[[i for i in usage_errors]].sum(axis = 1)"
   ]
  },
  {
   "cell_type": "code",
   "execution_count": null,
   "id": "f8e9c615",
   "metadata": {},
   "outputs": [],
   "source": [
    "train['Syntactic_Complexity'] = train[['Conjunction_Count', \n",
    "                                       'Reading_Ease', \n",
    "                                       'Average_Sen_Length']].sum(axis =1)\n",
    "\n",
    "train['Cumulative_Syntax_Pos'] = train[['Text_Grade_Consensus', \n",
    "                                        'Complex_Bigrams', \n",
    "                                        'P_I_Diversity', \n",
    "                                        'Conjunction_Count']].sum(axis =1)\n",
    "\n",
    "train['Cumulative_Vocab_Pos'] = train[['Lexical_Diversity', \n",
    "                                       'Polysyllable_Count', \n",
    "                                       'Complex_Unigrams', \n",
    "                                       'Average_Char_per_Word', \n",
    "                                       'Average_Syllables_per_Word']].sum(axis = 1)"
   ]
  },
  {
   "cell_type": "markdown",
   "id": "e414445c",
   "metadata": {},
   "source": [
    "We might reasonably assume that many of the features are less important as strict counts, but should rather be interpreted in terms of what proportion of the total excerpt they comprise. A typo here or there in a lengthy piece is not as revealing as the same number of errors in just a couple of sentences. "
   ]
  },
  {
   "cell_type": "markdown",
   "id": "2e6013ba",
   "metadata": {},
   "source": [
    "##### Other Options to Explore\n",
    "\n",
    "I haven't been able, yet, to think of any quantitative metrics I could glean from what these libraries produce -- metrics relevant to this competition, that is. \n",
    "\n",
    "With PatternTagger, I have vague notions about representative vectors which summarize the sentential structure. Presumably there are many consistent and widely used POS arrangements within the English language, and these no doubt correspond to more sophisticated usage: a [Subject_Pronoun + Simple_Past_Tense_Verb + Article + Noun] vector-- 'I saw a dog' or 'he ate the sandwich' and so forth-- describes innumerable sentences that lack the depth and nuance of more dense and difficult-to-accurately-coordinate sentences. Combined with frequency analysis (both within and outside of the competition corpus), I imagine this could be somehow to estimate the complexity of a sentence, the average such complexity over a document, and the mastery of different verb forms. If you're not sure what I'm getting at, Steven Pinker's book, [The Language Instinct](http://f.javier.io/rep/books/The-Language-Instinct-How-the-Mind-Creates-Language,-Steven-Pinker.pdf) -- particularly the chapters 'Talking Heads' and 'How Language Works' -- will help to pump your intuition. If you've experimented with or researched this, or know of resources that do this already, please comment :) "
   ]
  },
  {
   "cell_type": "code",
   "execution_count": null,
   "id": "d6954b41",
   "metadata": {},
   "outputs": [],
   "source": [
    "example_text = train['Full_Text'][0]"
   ]
  },
  {
   "cell_type": "code",
   "execution_count": null,
   "id": "ed586e6b",
   "metadata": {},
   "outputs": [],
   "source": [
    "from textblob.taggers import PatternTagger\n",
    "train['Blobs'][1][1]\n",
    "textblob = TextBlob(example_text, pos_tagger = PatternTagger())\n",
    "print(textblob.tags[1],'\\n')\n",
    "print(textblob.tags[1][1])"
   ]
  },
  {
   "cell_type": "markdown",
   "id": "242a7284",
   "metadata": {},
   "source": [
    "The [pronouncing](https://pronouncing.readthedocs.io/en/latest/index.html) module piqued my interest, and the interface/documentation is very easy and helpful. A great many features are accessible, many of them reminiscent of the types of things relevant to formal poets: meter, rhyme, syllable-count, vowel stressing, phonemes, and so on. Here, too, I haven't thought of ways to directly or immediately apply these to tasks like this competition (apart from the gibberish loop above), but I'm curious about possibilities. It may be informative, if you're interested in using it, to check out the [CMU Pronouncing Dictionary](http://www.speech.cs.cmu.edu/cgi-bin/cmudict), upon which it is based. \n",
    "\n",
    "I have, in this case, hazy notions about exploring differences between letter pronunciations in other languages versus in English, as well as using aphthongs and diphthongs to estimate fluency in usage conventions, literacy, etc. "
   ]
  },
  {
   "cell_type": "code",
   "execution_count": 48,
   "id": "f5d88045",
   "metadata": {},
   "outputs": [
    {
     "name": "stdout",
     "output_type": "stream",
     "text": [
      "Purported rhymes for 'Easy': ['adelizzi', 'breezy', 'caseze', 'cheesy', 'easy', 'fabrizi', 'kasese'] \n",
      "\n",
      "Rhymes with 'Kaggle': [] \n",
      "(It doesn't appear to believe that 'haggle' is a real word.)\n"
     ]
    },
    {
     "data": {
      "text/plain": [
       "['F OW1 N IY0 M Z']"
      ]
     },
     "metadata": {},
     "output_type": "display_data"
    },
    {
     "data": {
      "text/plain": [
       "['incise', 'incised', 'incisor', 'incisors', 'malloseismic']"
      ]
     },
     "metadata": {},
     "output_type": "display_data"
    },
    {
     "name": "stdout",
     "output_type": "stream",
     "text": [
      "(All words in the dictionary with a phoneme consistent with the sound \"sighs\".\n"
     ]
    }
   ],
   "source": [
    "import pronouncing \n",
    "\n",
    "# Rhymes -- the returned values are sometimes a little odd. \n",
    "RhymeExample1 = pronouncing.rhymes('Easy')\n",
    "print(f\"Purported rhymes for 'Easy': {RhymeExample1[:7]}\", '\\n')\n",
    "#Maybe the dictionary referenced would clear up these Italian(?) terms?\n",
    "\n",
    "\n",
    "RhymeExample2 = pronouncing.rhymes('Kaggle')\n",
    "print(f\"Rhymes with 'Kaggle': {RhymeExample2}\",\"\\n(It doesn't appear to believe that 'haggle' is a real word.)\")\n",
    "#Perhaps there is a requirement that a target word is not a proper noun? Is already in the dictionary?\n",
    "\n",
    "#Meter: 'metrical characteristics of a text'\n",
    "phoneme_list = pronouncing.phones_for_word('Phonemes')\n",
    "display(phoneme_list)\n",
    "\n",
    "#Homonymous phoneme-lexeme finder: \n",
    "phones = pronouncing.phones_for_word('sighs')[0]\n",
    "display(pronouncing.search(phones)[:5])\n",
    "print('(All words in the dictionary with a phoneme consistent with the sound \"sighs\".')"
   ]
  },
  {
   "cell_type": "markdown",
   "id": "75bb63cf",
   "metadata": {},
   "source": [
    "# Conclusion\n",
    "\n",
    "That's all for now! I hope these were useful illustrations of how you can generate some quantifiable and interpretable data for your model. I haven't explored text-vectorization, nor the related suite of tools and methods associated therewith, and I feel sort of like that's its own separate line of reasoning/approach. Many of the libraries and tools explored here also have algorithms for those kinds of things, which can be used in conjunction with what's in this notebook. \n",
    "\n",
    "If I've left out any libraries you know of or use, please leave them in the comments! "
   ]
  }
 ],
 "metadata": {
  "kernelspec": {
   "display_name": "Python 3 (ipykernel)",
   "language": "python",
   "name": "python3"
  },
  "language_info": {
   "codemirror_mode": {
    "name": "ipython",
    "version": 3
   },
   "file_extension": ".py",
   "mimetype": "text/x-python",
   "name": "python",
   "nbconvert_exporter": "python",
   "pygments_lexer": "ipython3",
   "version": "3.9.0"
  }
 },
 "nbformat": 4,
 "nbformat_minor": 5
}
